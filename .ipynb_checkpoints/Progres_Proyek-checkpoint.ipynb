{
 "cells": [
  {
   "cell_type": "code",
   "execution_count": 42,
   "id": "8642788c",
   "metadata": {},
   "outputs": [],
   "source": [
    "import pandas as pd\n",
    "import streamlit as st\n",
    "import matplotlib.pyplot as plt\n",
    "\n",
    "#Database\n",
    "sheet_url = \"https://docs.google.com/spreadsheets/d/1WV4JGGTipqDc9ufztZT8GA1wsvVcPHD-UQQiTwHwbAk/edit#gid=0\"\n",
    "url = sheet_url.replace('/edit#gid=', '/export?format=csv&gid=')\n",
    "data = pd.read_csv(url)\n",
    "data\n",
    "\n",
    "#Pengaturan Streamlit\n",
    "st.set_page_config(layout = \"wide\")\n",
    "row0_spacer1, row0_1, row0_spacer2 = st.columns((0.1, 2.3, 0.1))\n",
    "with row0_1:\n",
    "    st.title('Laporan Progress Proyek')\n",
    "    st.subheader('Streamlit App by [Nama Kamu](https://www.linkedin.com/in/khusnul-rijali-b7a6867b/)')\n",
    "    st.markdown('Selamat datang')\n",
    "    #Tampilkan dataframe\n",
    "    st.dataframe(data)\n",
    "   "
   ]
  },
  {
   "cell_type": "code",
   "execution_count": null,
   "id": "35cc8fa8",
   "metadata": {},
   "outputs": [],
   "source": []
  },
  {
   "cell_type": "code",
   "execution_count": null,
   "id": "526ceac4",
   "metadata": {},
   "outputs": [],
   "source": []
  },
  {
   "cell_type": "code",
   "execution_count": null,
   "id": "407bd367",
   "metadata": {},
   "outputs": [],
   "source": []
  }
 ],
 "metadata": {
  "kernelspec": {
   "display_name": "Python 3 (ipykernel)",
   "language": "python",
   "name": "python3"
  },
  "language_info": {
   "codemirror_mode": {
    "name": "ipython",
    "version": 3
   },
   "file_extension": ".py",
   "mimetype": "text/x-python",
   "name": "python",
   "nbconvert_exporter": "python",
   "pygments_lexer": "ipython3",
   "version": "3.9.7"
  }
 },
 "nbformat": 4,
 "nbformat_minor": 5
}
