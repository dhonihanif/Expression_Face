{
 "cells": [
  {
   "cell_type": "code",
   "execution_count": 8,
   "metadata": {},
   "outputs": [],
   "source": [
    "import pandas as pd\n",
    "import matplotlib.pyplot as plt\n",
    "import numpy as np\n",
    "import seaborn as sns\n",
    "import pathlib\n",
    "\n",
    "from sklearn.preprocessing import StandardScaler\n",
    "\n",
    "from tensorflow.keras.preprocessing.image import load_img, img_to_array\n",
    "import cv2\n",
    "import tensorflow as tf\n",
    "from tensorflow import keras\n",
    "from keras.models import Sequential\n",
    "from keras.layers import Conv2D, MaxPooling2D, Dense, Dropout, Flatten,BatchNormalization\n",
    "from keras.preprocessing.image import ImageDataGenerator"
   ]
  },
  {
   "cell_type": "code",
   "execution_count": 9,
   "metadata": {},
   "outputs": [
    {
     "name": "stdout",
     "output_type": "stream",
     "text": [
      "dataset2\\train\\train\n",
      "dataset2\\test\\test\n"
     ]
    }
   ],
   "source": [
    "train_data_dir = pathlib.Path(\"./dataset2/train/train/\")\n",
    "print(train_data_dir)\n",
    "\n",
    "test_data_dir = pathlib.Path(\"./dataset2/test/test/\")\n",
    "print(test_data_dir)"
   ]
  },
  {
   "cell_type": "code",
   "execution_count": 10,
   "metadata": {},
   "outputs": [
    {
     "name": "stdout",
     "output_type": "stream",
     "text": [
      "Found 28709 images belonging to 7 classes.\n",
      "Found 7178 images belonging to 7 classes.\n"
     ]
    }
   ],
   "source": [
    "# Initialize image data generator with rescaling\n",
    "train_data_gen = ImageDataGenerator(    \n",
    "    rescale=1./255,\n",
    "    rotation_range=10,\n",
    "    zoom_range=0.3,\n",
    ")\n",
    "\n",
    "validation_data_gen = ImageDataGenerator(rescale=1./255)\n",
    "\n",
    "# Preprocess all test images\n",
    "train_generator = train_data_gen.flow_from_directory(\n",
    "        './dataset2/train/train/',\n",
    "        target_size=(48, 48),\n",
    "        batch_size=64,\n",
    "        color_mode=\"grayscale\",\n",
    "        class_mode='categorical',\n",
    "        shuffle=True)\n",
    "\n",
    "# Preprocess all train images\n",
    "validation_generator = validation_data_gen.flow_from_directory(\n",
    "        './dataset2/test/test/',\n",
    "        target_size=(48, 48),\n",
    "        batch_size=64,\n",
    "        color_mode=\"grayscale\",\n",
    "        class_mode='categorical',\n",
    "        shuffle=True)"
   ]
  },
  {
   "cell_type": "code",
   "execution_count": 11,
   "metadata": {},
   "outputs": [
    {
     "name": "stdout",
     "output_type": "stream",
     "text": [
      "Model: \"sequential\"\n",
      "_________________________________________________________________\n",
      " Layer (type)                Output Shape              Param #   \n",
      "=================================================================\n",
      " conv2d (Conv2D)             (None, 46, 46, 32)        320       \n",
      "                                                                 \n",
      " conv2d_1 (Conv2D)           (None, 44, 44, 32)        9248      \n",
      "                                                                 \n",
      " max_pooling2d (MaxPooling2D  (None, 22, 22, 32)       0         \n",
      " )                                                               \n",
      "                                                                 \n",
      " conv2d_2 (Conv2D)           (None, 20, 20, 64)        18496     \n",
      "                                                                 \n",
      " conv2d_3 (Conv2D)           (None, 18, 18, 64)        36928     \n",
      "                                                                 \n",
      " max_pooling2d_1 (MaxPooling  (None, 9, 9, 64)         0         \n",
      " 2D)                                                             \n",
      "                                                                 \n",
      " conv2d_4 (Conv2D)           (None, 7, 7, 128)         73856     \n",
      "                                                                 \n",
      " conv2d_5 (Conv2D)           (None, 5, 5, 128)         147584    \n",
      "                                                                 \n",
      " max_pooling2d_2 (MaxPooling  (None, 2, 2, 128)        0         \n",
      " 2D)                                                             \n",
      "                                                                 \n",
      " dropout (Dropout)           (None, 2, 2, 128)         0         \n",
      "                                                                 \n",
      " flatten (Flatten)           (None, 512)               0         \n",
      "                                                                 \n",
      " dense (Dense)               (None, 512)               262656    \n",
      "                                                                 \n",
      " dropout_1 (Dropout)         (None, 512)               0         \n",
      "                                                                 \n",
      " dense_1 (Dense)             (None, 512)               262656    \n",
      "                                                                 \n",
      " dropout_2 (Dropout)         (None, 512)               0         \n",
      "                                                                 \n",
      " dense_2 (Dense)             (None, 7)                 3591      \n",
      "                                                                 \n",
      "=================================================================\n",
      "Total params: 815,335\n",
      "Trainable params: 815,335\n",
      "Non-trainable params: 0\n",
      "_________________________________________________________________\n",
      "Epoch 1/60\n",
      "448/448 [==============================] - 146s 323ms/step - loss: 1.8259 - accuracy: 0.2495 - val_loss: 1.8051 - val_accuracy: 0.2471\n",
      "Epoch 2/60\n",
      "448/448 [==============================] - 116s 258ms/step - loss: 1.7697 - accuracy: 0.2638 - val_loss: 1.6901 - val_accuracy: 0.3316\n",
      "Epoch 3/60\n",
      "448/448 [==============================] - 114s 254ms/step - loss: 1.6910 - accuracy: 0.3219 - val_loss: 1.6086 - val_accuracy: 0.3708\n",
      "Epoch 4/60\n",
      "448/448 [==============================] - 111s 249ms/step - loss: 1.6334 - accuracy: 0.3526 - val_loss: 1.5366 - val_accuracy: 0.4062\n",
      "Epoch 5/60\n",
      "448/448 [==============================] - 112s 251ms/step - loss: 1.5862 - accuracy: 0.3786 - val_loss: 1.4729 - val_accuracy: 0.4364\n",
      "Epoch 6/60\n",
      "448/448 [==============================] - 113s 253ms/step - loss: 1.5431 - accuracy: 0.4000 - val_loss: 1.4328 - val_accuracy: 0.4489\n",
      "Epoch 7/60\n",
      "448/448 [==============================] - 117s 260ms/step - loss: 1.5057 - accuracy: 0.4169 - val_loss: 1.4005 - val_accuracy: 0.4644\n",
      "Epoch 8/60\n",
      "448/448 [==============================] - 114s 254ms/step - loss: 1.4716 - accuracy: 0.4347 - val_loss: 1.3859 - val_accuracy: 0.4632\n",
      "Epoch 9/60\n",
      "448/448 [==============================] - 114s 255ms/step - loss: 1.4480 - accuracy: 0.4417 - val_loss: 1.3540 - val_accuracy: 0.4792\n",
      "Epoch 10/60\n",
      "448/448 [==============================] - 127s 285ms/step - loss: 1.4190 - accuracy: 0.4527 - val_loss: 1.3212 - val_accuracy: 0.4934\n",
      "Epoch 11/60\n",
      "448/448 [==============================] - 115s 256ms/step - loss: 1.3983 - accuracy: 0.4654 - val_loss: 1.3084 - val_accuracy: 0.4969\n",
      "Epoch 12/60\n",
      "448/448 [==============================] - 119s 266ms/step - loss: 1.3730 - accuracy: 0.4757 - val_loss: 1.2937 - val_accuracy: 0.5046\n",
      "Epoch 13/60\n",
      "448/448 [==============================] - 111s 248ms/step - loss: 1.3547 - accuracy: 0.4815 - val_loss: 1.2842 - val_accuracy: 0.5029\n",
      "Epoch 14/60\n",
      "448/448 [==============================] - 113s 251ms/step - loss: 1.3388 - accuracy: 0.4929 - val_loss: 1.2571 - val_accuracy: 0.5212\n",
      "Epoch 15/60\n",
      "448/448 [==============================] - 111s 248ms/step - loss: 1.3250 - accuracy: 0.4940 - val_loss: 1.2350 - val_accuracy: 0.5294\n",
      "Epoch 16/60\n",
      "448/448 [==============================] - 112s 250ms/step - loss: 1.3044 - accuracy: 0.5000 - val_loss: 1.2160 - val_accuracy: 0.5307\n",
      "Epoch 17/60\n",
      "448/448 [==============================] - 111s 247ms/step - loss: 1.2872 - accuracy: 0.5076 - val_loss: 1.2210 - val_accuracy: 0.5319\n",
      "Epoch 18/60\n",
      "448/448 [==============================] - 105s 235ms/step - loss: 1.2735 - accuracy: 0.5116 - val_loss: 1.2344 - val_accuracy: 0.5318\n",
      "Epoch 19/60\n",
      "448/448 [==============================] - 106s 237ms/step - loss: 1.2642 - accuracy: 0.5188 - val_loss: 1.2095 - val_accuracy: 0.5382\n",
      "Epoch 20/60\n",
      "448/448 [==============================] - 114s 254ms/step - loss: 1.2505 - accuracy: 0.5253 - val_loss: 1.1979 - val_accuracy: 0.5413\n",
      "Epoch 21/60\n",
      "448/448 [==============================] - 111s 247ms/step - loss: 1.2355 - accuracy: 0.5284 - val_loss: 1.1978 - val_accuracy: 0.5423\n",
      "Epoch 22/60\n",
      "448/448 [==============================] - 111s 249ms/step - loss: 1.2315 - accuracy: 0.5327 - val_loss: 1.1877 - val_accuracy: 0.5505\n",
      "Epoch 23/60\n",
      "448/448 [==============================] - 114s 254ms/step - loss: 1.2126 - accuracy: 0.5403 - val_loss: 1.1569 - val_accuracy: 0.5550\n",
      "Epoch 24/60\n",
      "448/448 [==============================] - 111s 247ms/step - loss: 1.2012 - accuracy: 0.5429 - val_loss: 1.1766 - val_accuracy: 0.5530\n",
      "Epoch 25/60\n",
      "448/448 [==============================] - 111s 247ms/step - loss: 1.1943 - accuracy: 0.5474 - val_loss: 1.1551 - val_accuracy: 0.5558\n",
      "Epoch 26/60\n",
      "448/448 [==============================] - 110s 247ms/step - loss: 1.1802 - accuracy: 0.5489 - val_loss: 1.1706 - val_accuracy: 0.5537\n",
      "Epoch 27/60\n",
      "448/448 [==============================] - 113s 253ms/step - loss: 1.1697 - accuracy: 0.5560 - val_loss: 1.1401 - val_accuracy: 0.5664\n",
      "Epoch 28/60\n",
      "448/448 [==============================] - 114s 254ms/step - loss: 1.1662 - accuracy: 0.5594 - val_loss: 1.1465 - val_accuracy: 0.5615\n",
      "Epoch 29/60\n",
      "448/448 [==============================] - 118s 264ms/step - loss: 1.1558 - accuracy: 0.5632 - val_loss: 1.1406 - val_accuracy: 0.5658\n",
      "Epoch 30/60\n",
      "448/448 [==============================] - 116s 260ms/step - loss: 1.1467 - accuracy: 0.5669 - val_loss: 1.1310 - val_accuracy: 0.5723\n",
      "Epoch 31/60\n",
      "448/448 [==============================] - 123s 275ms/step - loss: 1.1342 - accuracy: 0.5718 - val_loss: 1.1316 - val_accuracy: 0.5725\n",
      "Epoch 32/60\n",
      "448/448 [==============================] - 122s 271ms/step - loss: 1.1327 - accuracy: 0.5685 - val_loss: 1.1323 - val_accuracy: 0.5689\n",
      "Epoch 33/60\n",
      "448/448 [==============================] - 111s 248ms/step - loss: 1.1228 - accuracy: 0.5736 - val_loss: 1.1268 - val_accuracy: 0.5691\n",
      "Epoch 34/60\n",
      "448/448 [==============================] - 105s 234ms/step - loss: 1.1119 - accuracy: 0.5747 - val_loss: 1.1107 - val_accuracy: 0.5781\n",
      "Epoch 35/60\n",
      "448/448 [==============================] - 105s 235ms/step - loss: 1.1058 - accuracy: 0.5805 - val_loss: 1.1135 - val_accuracy: 0.5778\n",
      "Epoch 36/60\n",
      "448/448 [==============================] - 105s 234ms/step - loss: 1.0987 - accuracy: 0.5849 - val_loss: 1.1321 - val_accuracy: 0.5691\n",
      "Epoch 37/60\n",
      "448/448 [==============================] - 104s 232ms/step - loss: 1.0865 - accuracy: 0.5899 - val_loss: 1.0987 - val_accuracy: 0.5806\n",
      "Epoch 38/60\n",
      "448/448 [==============================] - 105s 234ms/step - loss: 1.0860 - accuracy: 0.5909 - val_loss: 1.1035 - val_accuracy: 0.5848\n",
      "Epoch 39/60\n",
      "448/448 [==============================] - 107s 238ms/step - loss: 1.0704 - accuracy: 0.5984 - val_loss: 1.0982 - val_accuracy: 0.5836\n",
      "Epoch 40/60\n",
      "448/448 [==============================] - 106s 236ms/step - loss: 1.0645 - accuracy: 0.5993 - val_loss: 1.0979 - val_accuracy: 0.5836\n",
      "Epoch 41/60\n",
      "448/448 [==============================] - 107s 238ms/step - loss: 1.0591 - accuracy: 0.6022 - val_loss: 1.0993 - val_accuracy: 0.5852\n",
      "Epoch 42/60\n",
      "448/448 [==============================] - 108s 240ms/step - loss: 1.0560 - accuracy: 0.6009 - val_loss: 1.0911 - val_accuracy: 0.5872\n",
      "Epoch 43/60\n",
      "448/448 [==============================] - 106s 237ms/step - loss: 1.0450 - accuracy: 0.6078 - val_loss: 1.0839 - val_accuracy: 0.5901\n",
      "Epoch 44/60\n",
      "448/448 [==============================] - 107s 239ms/step - loss: 1.0452 - accuracy: 0.6083 - val_loss: 1.0967 - val_accuracy: 0.5816\n",
      "Epoch 45/60\n",
      "448/448 [==============================] - 107s 238ms/step - loss: 1.0335 - accuracy: 0.6093 - val_loss: 1.1148 - val_accuracy: 0.5787\n",
      "Epoch 46/60\n",
      "448/448 [==============================] - 106s 237ms/step - loss: 1.0239 - accuracy: 0.6164 - val_loss: 1.0870 - val_accuracy: 0.5893\n",
      "Epoch 47/60\n",
      "448/448 [==============================] - 108s 242ms/step - loss: 1.0274 - accuracy: 0.6140 - val_loss: 1.0923 - val_accuracy: 0.5935\n",
      "Epoch 48/60\n",
      "448/448 [==============================] - 111s 248ms/step - loss: 1.0116 - accuracy: 0.6186 - val_loss: 1.0906 - val_accuracy: 0.5891\n",
      "Epoch 49/60\n",
      "448/448 [==============================] - 107s 239ms/step - loss: 1.0049 - accuracy: 0.6247 - val_loss: 1.1094 - val_accuracy: 0.5859\n",
      "Epoch 50/60\n",
      "448/448 [==============================] - 109s 243ms/step - loss: 0.9990 - accuracy: 0.6239 - val_loss: 1.0778 - val_accuracy: 0.5991\n",
      "Epoch 51/60\n",
      "448/448 [==============================] - 112s 249ms/step - loss: 0.9915 - accuracy: 0.6297 - val_loss: 1.0861 - val_accuracy: 0.5900\n",
      "Epoch 52/60\n",
      "448/448 [==============================] - 111s 248ms/step - loss: 0.9953 - accuracy: 0.6259 - val_loss: 1.0750 - val_accuracy: 0.6013\n",
      "Epoch 53/60\n",
      "448/448 [==============================] - 113s 252ms/step - loss: 0.9830 - accuracy: 0.6290 - val_loss: 1.1005 - val_accuracy: 0.5938\n",
      "Epoch 54/60\n",
      "448/448 [==============================] - 113s 251ms/step - loss: 0.9781 - accuracy: 0.6371 - val_loss: 1.0834 - val_accuracy: 0.5947\n",
      "Epoch 55/60\n",
      "448/448 [==============================] - 112s 249ms/step - loss: 0.9676 - accuracy: 0.6366 - val_loss: 1.0769 - val_accuracy: 0.5982\n",
      "Epoch 56/60\n",
      "448/448 [==============================] - 115s 256ms/step - loss: 0.9630 - accuracy: 0.6384 - val_loss: 1.0733 - val_accuracy: 0.6028\n",
      "Epoch 57/60\n",
      "448/448 [==============================] - 112s 250ms/step - loss: 0.9514 - accuracy: 0.6447 - val_loss: 1.0671 - val_accuracy: 0.5999\n",
      "Epoch 58/60\n",
      "448/448 [==============================] - 113s 252ms/step - loss: 0.9505 - accuracy: 0.6435 - val_loss: 1.0856 - val_accuracy: 0.5922\n",
      "Epoch 59/60\n",
      "448/448 [==============================] - 113s 252ms/step - loss: 0.9441 - accuracy: 0.6478 - val_loss: 1.0765 - val_accuracy: 0.5995\n",
      "Epoch 60/60\n",
      "448/448 [==============================] - 111s 248ms/step - loss: 0.9342 - accuracy: 0.6461 - val_loss: 1.0681 - val_accuracy: 0.6101\n"
     ]
    }
   ],
   "source": [
    "# create model structure\n",
    "emotion_model = Sequential([\n",
    "    #block-1\n",
    "    Conv2D(32, kernel_size=(3, 3), activation='relu', input_shape=(48, 48, 1)),\n",
    "    Conv2D(32, kernel_size=(3, 3), activation='relu'),\n",
    "    MaxPooling2D(pool_size=(2, 2)),\n",
    "\n",
    "    #block-2\n",
    "    Conv2D(64, kernel_size=(3, 3), activation='relu'),\n",
    "    Conv2D(64, kernel_size=(3, 3), activation='relu'),\n",
    "    MaxPooling2D(pool_size=(2, 2)),\n",
    "    \n",
    "    #block-3\n",
    "    Conv2D(128, kernel_size=(3, 3), activation='relu'),\n",
    "    Conv2D(128, kernel_size=(3, 3), activation='relu'),\n",
    "    MaxPooling2D(pool_size=(2, 2)),\n",
    "    Dropout(0.2),\n",
    "    \n",
    "    #block-4\n",
    "    Flatten(),\n",
    "    Dense(512, activation='relu'),\n",
    "    Dropout(0.2),\n",
    "    #block-5\n",
    "    Dense(512, activation='relu'),\n",
    "    Dropout(0.2),\n",
    "    Dense(7, activation='softmax')\n",
    "])\n",
    "\n",
    "emotion_model.compile(optimizer=tf.keras.optimizers.Adam(\n",
    "    learning_rate=0.0001,epsilon=1e-06),\n",
    "              loss=\"categorical_crossentropy\",\n",
    "              metrics=['accuracy'])\n",
    "\n",
    "emotion_model.summary()\n",
    "# Train the neural network/model\n",
    "emotion_model_info = emotion_model.fit(\n",
    "        train_generator,\n",
    "        steps_per_epoch=28709 // 64,\n",
    "        epochs=60,\n",
    "        validation_data=validation_generator,\n",
    "        validation_steps=7178 // 64)"
   ]
  },
  {
   "cell_type": "code",
   "execution_count": 12,
   "metadata": {},
   "outputs": [
    {
     "name": "stdout",
     "output_type": "stream",
     "text": [
      "dict_keys(['loss', 'accuracy', 'val_loss', 'val_accuracy'])\n"
     ]
    }
   ],
   "source": [
    "print(emotion_model_info.history.keys())"
   ]
  },
  {
   "cell_type": "code",
   "execution_count": 13,
   "metadata": {},
   "outputs": [
    {
     "data": {
      "image/png": "[encoded data removed]",
      "text/plain": [
       "<Figure size 432x288 with 1 Axes>"
      ]
     },
     "metadata": {
      "needs_background": "light"
     },
     "output_type": "display_data"
    }
   ],
   "source": [
    "plt.grid()\n",
    "plt.plot(emotion_model_info.history['accuracy'], label='train_accuracy')\n",
    "plt.plot(emotion_model_info.history['loss'], label = 'train_loss')\n",
    "plt.plot(emotion_model_info.history['val_accuracy'], label='val_accuracy')\n",
    "plt.plot(emotion_model_info.history['val_loss'], label = 'val_loss')\n",
    "plt.xlabel('Epoch')\n",
    "plt.ylabel('Accuracy')\n",
    "plt.ylim([-0.5, 1.2])\n",
    "plt.legend(loc='lower right')\n",
    "plt.show()"
   ]
  },
  {
   "cell_type": "code",
   "execution_count": 14,
   "metadata": {},
   "outputs": [],
   "source": [
    "emotion_model.save('facial_emotions_model.h5')"
   ]
  },
  {
   "cell_type": "code",
   "execution_count": 16,
   "metadata": {},
   "outputs": [
    {
     "name": "stdout",
     "output_type": "stream",
     "text": [
      "(48, 48, 1)\n"
     ]
    },
    {
     "data": {
      "image/png": "[encoded data removed]",
      "text/plain": [
       "<Figure size 432x288 with 1 Axes>"
      ]
     },
     "metadata": {
      "needs_background": "light"
     },
     "output_type": "display_data"
    }
   ],
   "source": [
    "from tensorflow.keras.preprocessing import image\n",
    "img_path='./dataset2/train/train/angry/Training_10118481.jpg'\n",
    "test_image=image.load_img(img_path,target_size=(48,48),color_mode='grayscale')\n",
    "test_image=image.img_to_array(test_image)\n",
    "print(test_image.shape)\n",
    "plt.imshow(test_image)\n",
    "plt.show()"
   ]
  },
  {
   "cell_type": "code",
   "execution_count": 17,
   "metadata": {},
   "outputs": [
    {
     "name": "stdout",
     "output_type": "stream",
     "text": [
      "1/1 [==============================] - 0s 184ms/step\n",
      "[1.0000000e+00 0.0000000e+00 1.1572548e-09 5.1425108e-25 2.0038134e-32\n",
      " 3.7350674e-12 1.1394039e-10]\n",
      "The person facial emotion is: Angry\n"
     ]
    }
   ],
   "source": [
    "test_image=test_image.reshape(1,48,48,1)\n",
    "classes=['Angry','Disgust','Fear','Happy','Neutral','Sad','Surprise']\n",
    "result=emotion_model.predict(test_image)\n",
    "print(result[0])\n",
    "y_pred=np.argmax(result[0])\n",
    "print('The person facial emotion is:',classes[y_pred])"
   ]
  },
  {
   "cell_type": "code",
   "execution_count": null,
   "metadata": {},
   "outputs": [],
   "source": []
  },
  {
   "cell_type": "code",
   "execution_count": null,
   "metadata": {},
   "outputs": [],
   "source": []
  }
 ],
 "metadata": {
  "kernelspec": {
   "display_name": "Python 3.9.6 64-bit",
   "language": "python",
   "name": "python3"
  },
  "language_info": {
   "codemirror_mode": {
    "name": "ipython",
    "version": 3
   },
   "file_extension": ".py",
   "mimetype": "text/x-python",
   "name": "python",
   "nbconvert_exporter": "python",
   "pygments_lexer": "ipython3",
   "version": "3.9.6"
  },
  "orig_nbformat": 4,
  "vscode": {
   "interpreter": {
    "hash": "6fff98fc3b3d81bd655c2cc48858186e4d9e2db7b515bf1c3221888f12a62f87"
   }
  }
 },
 "nbformat": 4,
 "nbformat_minor": 2
}
